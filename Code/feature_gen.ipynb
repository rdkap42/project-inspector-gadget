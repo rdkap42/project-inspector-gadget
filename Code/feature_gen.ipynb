{
 "cells": [
  {
   "cell_type": "markdown",
   "metadata": {},
   "source": [
    "## Feature generation"
   ]
  },
  {
   "cell_type": "code",
   "execution_count": 1,
   "metadata": {
    "collapsed": false
   },
   "outputs": [],
   "source": [
    "import numpy as np\n",
    "import pandas as pd\n",
    "import psycopg2 as pg"
   ]
  },
  {
   "cell_type": "code",
   "execution_count": 2,
   "metadata": {
    "collapsed": false
   },
   "outputs": [
    {
     "name": "stderr",
     "output_type": "stream",
     "text": [
      "/Users/mahmud/anaconda/lib/python2.7/site-packages/pandas/io/parsers.py:1159: DtypeWarning: Columns (19) have mixed types. Specify dtype option on import or set low_memory=False.\n",
      "  data = self._reader.read(nrows)\n"
     ]
    }
   ],
   "source": [
    "df = pd.read_csv(\"/Users/mahmud/Documents/DSSG-Bootcamp/project-inspector-gadget/DATA/Building_Violations_sample_50000.csv\")"
   ]
  },
  {
   "cell_type": "code",
   "execution_count": 3,
   "metadata": {
    "collapsed": true
   },
   "outputs": [],
   "source": [
    "import re\n",
    "\n",
    "def spaces_to_snake(column_name):\n",
    "    '''\n",
    "    converts a string that has spaces into snake_case\n",
    "    '''\n",
    "    \n",
    "    s = re.sub(r'\\s+','_', column_name)\n",
    "    return s.lower()\n",
    "\n",
    "df.columns = [spaces_to_snake(col) for col in df.columns]"
   ]
  },
  {
   "cell_type": "code",
   "execution_count": 15,
   "metadata": {
    "collapsed": false
   },
   "outputs": [],
   "source": [
    "# Change all dates to datetime format\n",
    "\n",
    "df.violation_date = pd.to_datetime(df.violation_date)\n",
    "df.violation_status_date = pd.to_datetime(df.violation_status_date)\n",
    "df.violation_last_modified_date = pd.to_datetime(df.violation_last_modified_date)\n",
    "\n"
   ]
  },
  {
   "cell_type": "code",
   "execution_count": 34,
   "metadata": {
    "collapsed": false
   },
   "outputs": [],
   "source": [
    "# Creating dummies\n",
    "dummies = pd.get_dummies(df[['inspection_status', 'inspection_category']])\n",
    "newdf = pd.merge(df, dummies, left_index = True, right_index = True) "
   ]
  },
  {
   "cell_type": "code",
   "execution_count": 46,
   "metadata": {
    "collapsed": false
   },
   "outputs": [
    {
     "data": {
      "text/html": [
       "<div style=\"max-height:1000px;max-width:1500px;overflow:auto;\">\n",
       "<table border=\"1\" class=\"dataframe\">\n",
       "  <thead>\n",
       "    <tr style=\"text-align: right;\">\n",
       "      <th></th>\n",
       "      <th>unnamed:_0</th>\n",
       "      <th>id</th>\n",
       "      <th>violation_last_modified_date</th>\n",
       "      <th>violation_date</th>\n",
       "      <th>violation_code</th>\n",
       "      <th>violation_status</th>\n",
       "      <th>violation_status_date</th>\n",
       "      <th>violation_description</th>\n",
       "      <th>violation_location</th>\n",
       "      <th>violation_inspector_comments</th>\n",
       "      <th>...</th>\n",
       "      <th>longitude</th>\n",
       "      <th>location</th>\n",
       "      <th>inspection_status_CLOSED</th>\n",
       "      <th>inspection_status_FAILED</th>\n",
       "      <th>inspection_status_HOLD</th>\n",
       "      <th>inspection_status_PASSED</th>\n",
       "      <th>inspection_category_COMPLAINT</th>\n",
       "      <th>inspection_category_PERIODIC</th>\n",
       "      <th>inspection_category_PERMIT</th>\n",
       "      <th>inspection_category_REGISTRATION</th>\n",
       "    </tr>\n",
       "  </thead>\n",
       "  <tbody>\n",
       "    <tr>\n",
       "      <th>0</th>\n",
       "      <td> 0</td>\n",
       "      <td> 5063843</td>\n",
       "      <td>2015-05-21</td>\n",
       "      <td>2015-05-21</td>\n",
       "      <td> CN065014</td>\n",
       "      <td> OPEN</td>\n",
       "      <td>NaT</td>\n",
       "      <td>                 REPAIR LINTELS</td>\n",
       "      <td>                OTHER   :    :</td>\n",
       "      <td>                                  LINTELS; RUSTED.</td>\n",
       "      <td>...</td>\n",
       "      <td>-87.606184</td>\n",
       "      <td>  (41.73308939713441,-87.60618433527188)</td>\n",
       "      <td> 0</td>\n",
       "      <td> 1</td>\n",
       "      <td> 0</td>\n",
       "      <td> 0</td>\n",
       "      <td> 1</td>\n",
       "      <td> 0</td>\n",
       "      <td> 0</td>\n",
       "      <td> 0</td>\n",
       "    </tr>\n",
       "    <tr>\n",
       "      <th>1</th>\n",
       "      <td> 1</td>\n",
       "      <td> 5063990</td>\n",
       "      <td>2015-05-21</td>\n",
       "      <td>2015-05-21</td>\n",
       "      <td> CN044013</td>\n",
       "      <td> OPEN</td>\n",
       "      <td>NaT</td>\n",
       "      <td> PIPE OPENING W/NONCOMBUST MATL</td>\n",
       "      <td> OTHER   :    :MULTIPLE FLOORS</td>\n",
       "      <td> OPENINGS AROUND PIPES, SEAL WITH APPROVED MATE...</td>\n",
       "      <td>...</td>\n",
       "      <td>-87.615694</td>\n",
       "      <td>  (41.77708792596553,-87.61569442972947)</td>\n",
       "      <td> 0</td>\n",
       "      <td> 1</td>\n",
       "      <td> 0</td>\n",
       "      <td> 0</td>\n",
       "      <td> 0</td>\n",
       "      <td> 1</td>\n",
       "      <td> 0</td>\n",
       "      <td> 0</td>\n",
       "    </tr>\n",
       "    <tr>\n",
       "      <th>2</th>\n",
       "      <td> 2</td>\n",
       "      <td> 5064022</td>\n",
       "      <td>2015-05-21</td>\n",
       "      <td>2015-05-21</td>\n",
       "      <td> CN104035</td>\n",
       "      <td> OPEN</td>\n",
       "      <td>NaT</td>\n",
       "      <td>                MAINTAIN WINDOW</td>\n",
       "      <td>                OTHER   :    :</td>\n",
       "      <td> ALL ELEVATIONS , WOOD WINDOW FRAMES  AND NORTH...</td>\n",
       "      <td>...</td>\n",
       "      <td>-87.708657</td>\n",
       "      <td>  (41.93799454179893,-87.70865671096144)</td>\n",
       "      <td> 0</td>\n",
       "      <td> 1</td>\n",
       "      <td> 0</td>\n",
       "      <td> 0</td>\n",
       "      <td> 1</td>\n",
       "      <td> 0</td>\n",
       "      <td> 0</td>\n",
       "      <td> 0</td>\n",
       "    </tr>\n",
       "    <tr>\n",
       "      <th>3</th>\n",
       "      <td> 3</td>\n",
       "      <td> 5064019</td>\n",
       "      <td>2015-05-21</td>\n",
       "      <td>2015-05-21</td>\n",
       "      <td> CN196029</td>\n",
       "      <td> OPEN</td>\n",
       "      <td>NaT</td>\n",
       "      <td>     POST OWNER/MANAGERS NAME/#</td>\n",
       "      <td>                OTHER   :    :</td>\n",
       "      <td>          BUILDING - NO OWNER'S I.D. SIGN POSTED .</td>\n",
       "      <td>...</td>\n",
       "      <td>-87.708657</td>\n",
       "      <td>  (41.93799454179893,-87.70865671096144)</td>\n",
       "      <td> 0</td>\n",
       "      <td> 1</td>\n",
       "      <td> 0</td>\n",
       "      <td> 0</td>\n",
       "      <td> 1</td>\n",
       "      <td> 0</td>\n",
       "      <td> 0</td>\n",
       "      <td> 0</td>\n",
       "    </tr>\n",
       "    <tr>\n",
       "      <th>4</th>\n",
       "      <td> 4</td>\n",
       "      <td> 5064139</td>\n",
       "      <td>2015-05-21</td>\n",
       "      <td>2015-05-21</td>\n",
       "      <td> CN104015</td>\n",
       "      <td> OPEN</td>\n",
       "      <td>NaT</td>\n",
       "      <td>  REPLCE WINDOW PANES, PLEXGLAS</td>\n",
       "      <td>                OTHER   :    :</td>\n",
       "      <td> NORTH ELEVATION / 1ST FLOOR - BROKEN WINDOW PANE.</td>\n",
       "      <td>...</td>\n",
       "      <td>-87.620616</td>\n",
       "      <td> (41.791469839262206,-87.62061589476306)</td>\n",
       "      <td> 0</td>\n",
       "      <td> 1</td>\n",
       "      <td> 0</td>\n",
       "      <td> 0</td>\n",
       "      <td> 1</td>\n",
       "      <td> 0</td>\n",
       "      <td> 0</td>\n",
       "      <td> 0</td>\n",
       "    </tr>\n",
       "  </tbody>\n",
       "</table>\n",
       "<p>5 rows × 31 columns</p>\n",
       "</div>"
      ],
      "text/plain": [
       "   unnamed:_0       id violation_last_modified_date violation_date  \\\n",
       "0           0  5063843                   2015-05-21     2015-05-21   \n",
       "1           1  5063990                   2015-05-21     2015-05-21   \n",
       "2           2  5064022                   2015-05-21     2015-05-21   \n",
       "3           3  5064019                   2015-05-21     2015-05-21   \n",
       "4           4  5064139                   2015-05-21     2015-05-21   \n",
       "\n",
       "  violation_code violation_status violation_status_date  \\\n",
       "0       CN065014             OPEN                   NaT   \n",
       "1       CN044013             OPEN                   NaT   \n",
       "2       CN104035             OPEN                   NaT   \n",
       "3       CN196029             OPEN                   NaT   \n",
       "4       CN104015             OPEN                   NaT   \n",
       "\n",
       "            violation_description             violation_location  \\\n",
       "0                  REPAIR LINTELS                 OTHER   :    :   \n",
       "1  PIPE OPENING W/NONCOMBUST MATL  OTHER   :    :MULTIPLE FLOORS   \n",
       "2                 MAINTAIN WINDOW                 OTHER   :    :   \n",
       "3      POST OWNER/MANAGERS NAME/#                 OTHER   :    :   \n",
       "4   REPLCE WINDOW PANES, PLEXGLAS                 OTHER   :    :   \n",
       "\n",
       "                        violation_inspector_comments  \\\n",
       "0                                   LINTELS; RUSTED.   \n",
       "1  OPENINGS AROUND PIPES, SEAL WITH APPROVED MATE...   \n",
       "2  ALL ELEVATIONS , WOOD WINDOW FRAMES  AND NORTH...   \n",
       "3           BUILDING - NO OWNER'S I.D. SIGN POSTED .   \n",
       "4  NORTH ELEVATION / 1ST FLOOR - BROKEN WINDOW PANE.   \n",
       "\n",
       "                ...                 longitude  \\\n",
       "0               ...                -87.606184   \n",
       "1               ...                -87.615694   \n",
       "2               ...                -87.708657   \n",
       "3               ...                -87.708657   \n",
       "4               ...                -87.620616   \n",
       "\n",
       "                                  location  inspection_status_CLOSED  \\\n",
       "0   (41.73308939713441,-87.60618433527188)                         0   \n",
       "1   (41.77708792596553,-87.61569442972947)                         0   \n",
       "2   (41.93799454179893,-87.70865671096144)                         0   \n",
       "3   (41.93799454179893,-87.70865671096144)                         0   \n",
       "4  (41.791469839262206,-87.62061589476306)                         0   \n",
       "\n",
       "  inspection_status_FAILED inspection_status_HOLD inspection_status_PASSED  \\\n",
       "0                        1                      0                        0   \n",
       "1                        1                      0                        0   \n",
       "2                        1                      0                        0   \n",
       "3                        1                      0                        0   \n",
       "4                        1                      0                        0   \n",
       "\n",
       "  inspection_category_COMPLAINT inspection_category_PERIODIC  \\\n",
       "0                             1                            0   \n",
       "1                             0                            1   \n",
       "2                             1                            0   \n",
       "3                             1                            0   \n",
       "4                             1                            0   \n",
       "\n",
       "   inspection_category_PERMIT inspection_category_REGISTRATION  \n",
       "0                           0                                0  \n",
       "1                           0                                0  \n",
       "2                           0                                0  \n",
       "3                           0                                0  \n",
       "4                           0                                0  \n",
       "\n",
       "[5 rows x 31 columns]"
      ]
     },
     "execution_count": 46,
     "metadata": {},
     "output_type": "execute_result"
    }
   ],
   "source": [
    "newdf.dtypes\n",
    "newdf.head(5)"
   ]
  },
  {
   "cell_type": "code",
   "execution_count": 60,
   "metadata": {
    "collapsed": false
   },
   "outputs": [],
   "source": [
    "# Create a building features dataframe\n",
    "b_features = pd.DataFrame()\n",
    "buildings = newdf.groupby('property_group')"
   ]
  },
  {
   "cell_type": "code",
   "execution_count": 61,
   "metadata": {
    "collapsed": true
   },
   "outputs": [],
   "source": [
    "b_features['num_failed'] = buildings.inspection_status_FAILED.sum()\n",
    "b_features['num_passed'] = buildings.inspection_status_PASSED.sum()\n",
    "b_features['total_inspected'] = b_features.num_failed + b_features.num_passed\n",
    "\n",
    "b_features['num_complaint'] = buildings.inspection_category_COMPLAINT.sum()"
   ]
  },
  {
   "cell_type": "code",
   "execution_count": 62,
   "metadata": {
    "collapsed": false
   },
   "outputs": [
    {
     "data": {
      "text/html": [
       "<div style=\"max-height:1000px;max-width:1500px;overflow:auto;\">\n",
       "<table border=\"1\" class=\"dataframe\">\n",
       "  <thead>\n",
       "    <tr style=\"text-align: right;\">\n",
       "      <th></th>\n",
       "      <th>num_failed</th>\n",
       "      <th>num_passed</th>\n",
       "      <th>total_inspected</th>\n",
       "      <th>num_complaint</th>\n",
       "    </tr>\n",
       "    <tr>\n",
       "      <th>property_group</th>\n",
       "      <th></th>\n",
       "      <th></th>\n",
       "      <th></th>\n",
       "      <th></th>\n",
       "    </tr>\n",
       "  </thead>\n",
       "  <tbody>\n",
       "    <tr>\n",
       "      <th>1001</th>\n",
       "      <td> 3</td>\n",
       "      <td> 0</td>\n",
       "      <td> 3</td>\n",
       "      <td> 0</td>\n",
       "    </tr>\n",
       "    <tr>\n",
       "      <th>1002</th>\n",
       "      <td> 0</td>\n",
       "      <td> 2</td>\n",
       "      <td> 2</td>\n",
       "      <td> 0</td>\n",
       "    </tr>\n",
       "    <tr>\n",
       "      <th>1004</th>\n",
       "      <td> 1</td>\n",
       "      <td> 1</td>\n",
       "      <td> 2</td>\n",
       "      <td> 2</td>\n",
       "    </tr>\n",
       "    <tr>\n",
       "      <th>1007</th>\n",
       "      <td> 1</td>\n",
       "      <td> 0</td>\n",
       "      <td> 1</td>\n",
       "      <td> 1</td>\n",
       "    </tr>\n",
       "    <tr>\n",
       "      <th>1008</th>\n",
       "      <td> 1</td>\n",
       "      <td> 0</td>\n",
       "      <td> 1</td>\n",
       "      <td> 0</td>\n",
       "    </tr>\n",
       "  </tbody>\n",
       "</table>\n",
       "</div>"
      ],
      "text/plain": [
       "                num_failed  num_passed  total_inspected  num_complaint\n",
       "property_group                                                        \n",
       "1001                     3           0                3              0\n",
       "1002                     0           2                2              0\n",
       "1004                     1           1                2              2\n",
       "1007                     1           0                1              1\n",
       "1008                     1           0                1              0"
      ]
     },
     "execution_count": 62,
     "metadata": {},
     "output_type": "execute_result"
    }
   ],
   "source": [
    "b_features.head(5)"
   ]
  },
  {
   "cell_type": "code",
   "execution_count": null,
   "metadata": {
    "collapsed": true
   },
   "outputs": [],
   "source": []
  }
 ],
 "metadata": {
  "kernelspec": {
   "display_name": "Python 2",
   "language": "python",
   "name": "python2"
  },
  "language_info": {
   "codemirror_mode": {
    "name": "ipython",
    "version": 2
   },
   "file_extension": ".py",
   "mimetype": "text/x-python",
   "name": "python",
   "nbconvert_exporter": "python",
   "pygments_lexer": "ipython2",
   "version": "2.7.9"
  }
 },
 "nbformat": 4,
 "nbformat_minor": 0
}
