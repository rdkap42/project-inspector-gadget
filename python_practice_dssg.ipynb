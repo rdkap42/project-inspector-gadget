{
 "cells": [
  {
   "cell_type": "markdown",
   "metadata": {},
   "source": [
    "##Get startd with Pandas \n"
   ]
  },
  {
   "cell_type": "code",
   "execution_count": 1,
   "metadata": {
    "collapsed": true
   },
   "outputs": [],
   "source": [
    "import pandas as pd \n",
    "import numpy as np "
   ]
  },
  {
   "cell_type": "code",
   "execution_count": 3,
   "metadata": {
    "collapsed": true
   },
   "outputs": [],
   "source": [
    "pd.read_csv?"
   ]
  },
  {
   "cell_type": "code",
   "execution_count": 4,
   "metadata": {
    "collapsed": false
   },
   "outputs": [
    {
     "name": "stderr",
     "output_type": "stream",
     "text": [
      "/home/benbrew/anaconda/lib/python2.7/site-packages/pandas/io/parsers.py:1159: DtypeWarning: Columns (19) have mixed types. Specify dtype option on import or set low_memory=False.\n",
      "  data = self._reader.read(nrows)\n"
     ]
    }
   ],
   "source": [
    "df = pd.read_csv('Building_Violations_sample_50000.csv')"
   ]
  },
  {
   "cell_type": "code",
   "execution_count": 6,
   "metadata": {
    "collapsed": false
   },
   "outputs": [
    {
     "data": {
      "text/html": [
       "<div style=\"max-height:1000px;max-width:1500px;overflow:auto;\">\n",
       "<table border=\"1\" class=\"dataframe\">\n",
       "  <thead>\n",
       "    <tr style=\"text-align: right;\">\n",
       "      <th></th>\n",
       "      <th>Unnamed: 0</th>\n",
       "      <th>ID</th>\n",
       "      <th>VIOLATION LAST MODIFIED DATE</th>\n",
       "      <th>VIOLATION DATE</th>\n",
       "      <th>VIOLATION CODE</th>\n",
       "      <th>VIOLATION STATUS</th>\n",
       "      <th>VIOLATION STATUS DATE</th>\n",
       "      <th>VIOLATION DESCRIPTION</th>\n",
       "      <th>VIOLATION LOCATION</th>\n",
       "      <th>VIOLATION INSPECTOR COMMENTS</th>\n",
       "      <th>...</th>\n",
       "      <th>INSPECTION STATUS</th>\n",
       "      <th>INSPECTION WAIVED</th>\n",
       "      <th>INSPECTION CATEGORY</th>\n",
       "      <th>DEPARTMENT BUREAU</th>\n",
       "      <th>ADDRESS</th>\n",
       "      <th>PROPERTY GROUP</th>\n",
       "      <th>SSA</th>\n",
       "      <th>LATITUDE</th>\n",
       "      <th>LONGITUDE</th>\n",
       "      <th>LOCATION</th>\n",
       "    </tr>\n",
       "  </thead>\n",
       "  <tbody>\n",
       "    <tr>\n",
       "      <th>0</th>\n",
       "      <td> 0</td>\n",
       "      <td> 5063843</td>\n",
       "      <td> 05/21/2015</td>\n",
       "      <td> 05/21/2015</td>\n",
       "      <td> CN065014</td>\n",
       "      <td> OPEN</td>\n",
       "      <td> NaN</td>\n",
       "      <td>                 REPAIR LINTELS</td>\n",
       "      <td>                OTHER   :    :</td>\n",
       "      <td>                                  LINTELS; RUSTED.</td>\n",
       "      <td>...</td>\n",
       "      <td> FAILED</td>\n",
       "      <td> N</td>\n",
       "      <td> COMPLAINT</td>\n",
       "      <td> CONSERVATION</td>\n",
       "      <td>                 722 E 89TH ST</td>\n",
       "      <td> 461523</td>\n",
       "      <td>  51</td>\n",
       "      <td> 41.733089</td>\n",
       "      <td>-87.606184</td>\n",
       "      <td>  (41.73308939713441,-87.60618433527188)</td>\n",
       "    </tr>\n",
       "    <tr>\n",
       "      <th>1</th>\n",
       "      <td> 1</td>\n",
       "      <td> 5063990</td>\n",
       "      <td> 05/21/2015</td>\n",
       "      <td> 05/21/2015</td>\n",
       "      <td> CN044013</td>\n",
       "      <td> OPEN</td>\n",
       "      <td> NaN</td>\n",
       "      <td> PIPE OPENING W/NONCOMBUST MATL</td>\n",
       "      <td> OTHER   :    :MULTIPLE FLOORS</td>\n",
       "      <td> OPENINGS AROUND PIPES, SEAL WITH APPROVED MATE...</td>\n",
       "      <td>...</td>\n",
       "      <td> FAILED</td>\n",
       "      <td> N</td>\n",
       "      <td>  PERIODIC</td>\n",
       "      <td> CONSERVATION</td>\n",
       "      <td> 6444 S DR MARTIN L KING JR DR</td>\n",
       "      <td>  19575</td>\n",
       "      <td> NaN</td>\n",
       "      <td> 41.777088</td>\n",
       "      <td>-87.615694</td>\n",
       "      <td>  (41.77708792596553,-87.61569442972947)</td>\n",
       "    </tr>\n",
       "    <tr>\n",
       "      <th>2</th>\n",
       "      <td> 2</td>\n",
       "      <td> 5064022</td>\n",
       "      <td> 05/21/2015</td>\n",
       "      <td> 05/21/2015</td>\n",
       "      <td> CN104035</td>\n",
       "      <td> OPEN</td>\n",
       "      <td> NaN</td>\n",
       "      <td>                MAINTAIN WINDOW</td>\n",
       "      <td>                OTHER   :    :</td>\n",
       "      <td> ALL ELEVATIONS , WOOD WINDOW FRAMES  AND NORTH...</td>\n",
       "      <td>...</td>\n",
       "      <td> FAILED</td>\n",
       "      <td> N</td>\n",
       "      <td> COMPLAINT</td>\n",
       "      <td> CONSERVATION</td>\n",
       "      <td>             3115 N SAWYER AVE</td>\n",
       "      <td> 117375</td>\n",
       "      <td> NaN</td>\n",
       "      <td> 41.937995</td>\n",
       "      <td>-87.708657</td>\n",
       "      <td>  (41.93799454179893,-87.70865671096144)</td>\n",
       "    </tr>\n",
       "    <tr>\n",
       "      <th>3</th>\n",
       "      <td> 3</td>\n",
       "      <td> 5064019</td>\n",
       "      <td> 05/21/2015</td>\n",
       "      <td> 05/21/2015</td>\n",
       "      <td> CN196029</td>\n",
       "      <td> OPEN</td>\n",
       "      <td> NaN</td>\n",
       "      <td>     POST OWNER/MANAGERS NAME/#</td>\n",
       "      <td>                OTHER   :    :</td>\n",
       "      <td>          BUILDING - NO OWNER'S I.D. SIGN POSTED .</td>\n",
       "      <td>...</td>\n",
       "      <td> FAILED</td>\n",
       "      <td> N</td>\n",
       "      <td> COMPLAINT</td>\n",
       "      <td> CONSERVATION</td>\n",
       "      <td>             3115 N SAWYER AVE</td>\n",
       "      <td> 117375</td>\n",
       "      <td> NaN</td>\n",
       "      <td> 41.937995</td>\n",
       "      <td>-87.708657</td>\n",
       "      <td>  (41.93799454179893,-87.70865671096144)</td>\n",
       "    </tr>\n",
       "    <tr>\n",
       "      <th>4</th>\n",
       "      <td> 4</td>\n",
       "      <td> 5064139</td>\n",
       "      <td> 05/21/2015</td>\n",
       "      <td> 05/21/2015</td>\n",
       "      <td> CN104015</td>\n",
       "      <td> OPEN</td>\n",
       "      <td> NaN</td>\n",
       "      <td>  REPLCE WINDOW PANES, PLEXGLAS</td>\n",
       "      <td>                OTHER   :    :</td>\n",
       "      <td> NORTH ELEVATION / 1ST FLOOR - BROKEN WINDOW PANE.</td>\n",
       "      <td>...</td>\n",
       "      <td> FAILED</td>\n",
       "      <td> N</td>\n",
       "      <td> COMPLAINT</td>\n",
       "      <td> CONSERVATION</td>\n",
       "      <td>            5649 S INDIANA AVE</td>\n",
       "      <td> 344254</td>\n",
       "      <td> NaN</td>\n",
       "      <td> 41.791470</td>\n",
       "      <td>-87.620616</td>\n",
       "      <td> (41.791469839262206,-87.62061589476306)</td>\n",
       "    </tr>\n",
       "  </tbody>\n",
       "</table>\n",
       "<p>5 rows × 23 columns</p>\n",
       "</div>"
      ],
      "text/plain": [
       "   Unnamed: 0       ID VIOLATION LAST MODIFIED DATE VIOLATION DATE  \\\n",
       "0           0  5063843                   05/21/2015     05/21/2015   \n",
       "1           1  5063990                   05/21/2015     05/21/2015   \n",
       "2           2  5064022                   05/21/2015     05/21/2015   \n",
       "3           3  5064019                   05/21/2015     05/21/2015   \n",
       "4           4  5064139                   05/21/2015     05/21/2015   \n",
       "\n",
       "  VIOLATION CODE VIOLATION STATUS VIOLATION STATUS DATE  \\\n",
       "0       CN065014             OPEN                   NaN   \n",
       "1       CN044013             OPEN                   NaN   \n",
       "2       CN104035             OPEN                   NaN   \n",
       "3       CN196029             OPEN                   NaN   \n",
       "4       CN104015             OPEN                   NaN   \n",
       "\n",
       "            VIOLATION DESCRIPTION             VIOLATION LOCATION  \\\n",
       "0                  REPAIR LINTELS                 OTHER   :    :   \n",
       "1  PIPE OPENING W/NONCOMBUST MATL  OTHER   :    :MULTIPLE FLOORS   \n",
       "2                 MAINTAIN WINDOW                 OTHER   :    :   \n",
       "3      POST OWNER/MANAGERS NAME/#                 OTHER   :    :   \n",
       "4   REPLCE WINDOW PANES, PLEXGLAS                 OTHER   :    :   \n",
       "\n",
       "                        VIOLATION INSPECTOR COMMENTS  \\\n",
       "0                                   LINTELS; RUSTED.   \n",
       "1  OPENINGS AROUND PIPES, SEAL WITH APPROVED MATE...   \n",
       "2  ALL ELEVATIONS , WOOD WINDOW FRAMES  AND NORTH...   \n",
       "3           BUILDING - NO OWNER'S I.D. SIGN POSTED .   \n",
       "4  NORTH ELEVATION / 1ST FLOOR - BROKEN WINDOW PANE.   \n",
       "\n",
       "                    ...                    INSPECTION STATUS  \\\n",
       "0                   ...                               FAILED   \n",
       "1                   ...                               FAILED   \n",
       "2                   ...                               FAILED   \n",
       "3                   ...                               FAILED   \n",
       "4                   ...                               FAILED   \n",
       "\n",
       "  INSPECTION WAIVED  INSPECTION CATEGORY DEPARTMENT BUREAU  \\\n",
       "0                 N            COMPLAINT      CONSERVATION   \n",
       "1                 N             PERIODIC      CONSERVATION   \n",
       "2                 N            COMPLAINT      CONSERVATION   \n",
       "3                 N            COMPLAINT      CONSERVATION   \n",
       "4                 N            COMPLAINT      CONSERVATION   \n",
       "\n",
       "                         ADDRESS PROPERTY GROUP  SSA   LATITUDE  LONGITUDE  \\\n",
       "0                  722 E 89TH ST         461523   51  41.733089 -87.606184   \n",
       "1  6444 S DR MARTIN L KING JR DR          19575  NaN  41.777088 -87.615694   \n",
       "2              3115 N SAWYER AVE         117375  NaN  41.937995 -87.708657   \n",
       "3              3115 N SAWYER AVE         117375  NaN  41.937995 -87.708657   \n",
       "4             5649 S INDIANA AVE         344254  NaN  41.791470 -87.620616   \n",
       "\n",
       "                                  LOCATION  \n",
       "0   (41.73308939713441,-87.60618433527188)  \n",
       "1   (41.77708792596553,-87.61569442972947)  \n",
       "2   (41.93799454179893,-87.70865671096144)  \n",
       "3   (41.93799454179893,-87.70865671096144)  \n",
       "4  (41.791469839262206,-87.62061589476306)  \n",
       "\n",
       "[5 rows x 23 columns]"
      ]
     },
     "execution_count": 6,
     "metadata": {},
     "output_type": "execute_result"
    }
   ],
   "source": [
    "df.head()"
   ]
  },
  {
   "cell_type": "code",
   "execution_count": 7,
   "metadata": {
    "collapsed": false
   },
   "outputs": [
    {
     "data": {
      "text/plain": [
       "(50000, 23)"
      ]
     },
     "execution_count": 7,
     "metadata": {},
     "output_type": "execute_result"
    }
   ],
   "source": [
    "df.shape"
   ]
  },
  {
   "cell_type": "code",
   "execution_count": 8,
   "metadata": {
    "collapsed": true
   },
   "outputs": [],
   "source": [
    "del df['Unnamed: 0']"
   ]
  },
  {
   "cell_type": "code",
   "execution_count": 31,
   "metadata": {
    "collapsed": false
   },
   "outputs": [
    {
     "data": {
      "text/html": [
       "<div style=\"max-height:1000px;max-width:1500px;overflow:auto;\">\n",
       "<table border=\"1\" class=\"dataframe\">\n",
       "  <thead>\n",
       "    <tr style=\"text-align: right;\">\n",
       "      <th></th>\n",
       "      <th>id</th>\n",
       "      <th>violation_last_modified_date</th>\n",
       "      <th>violation_date</th>\n",
       "      <th>violation_code</th>\n",
       "      <th>violation_status</th>\n",
       "      <th>violation_status_date</th>\n",
       "      <th>violation_description</th>\n",
       "      <th>violation_location</th>\n",
       "      <th>violation_inspector_comments</th>\n",
       "      <th>violation_ordinance</th>\n",
       "      <th>...</th>\n",
       "      <th>inspection_category</th>\n",
       "      <th>department_bureau</th>\n",
       "      <th>address</th>\n",
       "      <th>property_group</th>\n",
       "      <th>ssa</th>\n",
       "      <th>latitude</th>\n",
       "      <th>longitude</th>\n",
       "      <th>location</th>\n",
       "      <th>log_lat</th>\n",
       "      <th>new_lat</th>\n",
       "    </tr>\n",
       "  </thead>\n",
       "  <tbody>\n",
       "    <tr>\n",
       "      <th>49995</th>\n",
       "      <td> 1438713</td>\n",
       "      <td> 06/16/2006</td>\n",
       "      <td>2006-01-01</td>\n",
       "      <td> CN063014</td>\n",
       "      <td>     OPEN</td>\n",
       "      <td>        NaN</td>\n",
       "      <td>                    CHIMNEY</td>\n",
       "      <td> NaN</td>\n",
       "      <td>           CHIMNEY WASHED OUT MORTAR LOOSE BRICKS.</td>\n",
       "      <td> Failed to maintain chimney in safe and sound w...</td>\n",
       "      <td>...</td>\n",
       "      <td> PERIODIC</td>\n",
       "      <td> CONSERVATION</td>\n",
       "      <td>     1854 E 79TH ST</td>\n",
       "      <td> 20597</td>\n",
       "      <td>  50</td>\n",
       "      <td> 41.751683</td>\n",
       "      <td>-87.578659</td>\n",
       "      <td>  (41.75168267214598,-87.57865870399478)</td>\n",
       "      <td> 3.731740</td>\n",
       "      <td> 42.526625</td>\n",
       "    </tr>\n",
       "    <tr>\n",
       "      <th>49996</th>\n",
       "      <td> 1357061</td>\n",
       "      <td> 07/17/2006</td>\n",
       "      <td>2006-01-01</td>\n",
       "      <td> CN070024</td>\n",
       "      <td>     OPEN</td>\n",
       "      <td>        NaN</td>\n",
       "      <td>        REPAIR PORCH SYSTEM</td>\n",
       "      <td> NaN</td>\n",
       "      <td> 35 REAR PORCH GRADE TO 3RD RAILS TOO SHORT, MI...</td>\n",
       "      <td> Failed to repair or replace defective or missi...</td>\n",
       "      <td>...</td>\n",
       "      <td> PERIODIC</td>\n",
       "      <td> CONSERVATION</td>\n",
       "      <td>     31 N LOREL AVE</td>\n",
       "      <td>  1612</td>\n",
       "      <td> NaN</td>\n",
       "      <td> 41.881299</td>\n",
       "      <td>-87.758621</td>\n",
       "      <td> (41.881299199557894,-87.75862053499047)</td>\n",
       "      <td> 3.734839</td>\n",
       "      <td> 42.071508</td>\n",
       "    </tr>\n",
       "    <tr>\n",
       "      <th>49997</th>\n",
       "      <td> 1430847</td>\n",
       "      <td> 10/14/2008</td>\n",
       "      <td>2006-01-01</td>\n",
       "      <td> CN031013</td>\n",
       "      <td> COMPLIED</td>\n",
       "      <td> 07/10/2008</td>\n",
       "      <td> FIRE EXTNGSHR REQ, RESDNTL</td>\n",
       "      <td> NaN</td>\n",
       "      <td>           ALL ELEVATION MISSING FIRE EXTINGUISHER</td>\n",
       "      <td> Failed to install approved fire extinguishers ...</td>\n",
       "      <td>...</td>\n",
       "      <td> PERIODIC</td>\n",
       "      <td> CONSERVATION</td>\n",
       "      <td>    6501 S LOWE AVE</td>\n",
       "      <td> 19693</td>\n",
       "      <td> NaN</td>\n",
       "      <td> 41.776074</td>\n",
       "      <td>-87.640625</td>\n",
       "      <td>   (41.7760739361563,-87.64062455203374)</td>\n",
       "      <td> 3.732324</td>\n",
       "      <td> 42.403814</td>\n",
       "    </tr>\n",
       "    <tr>\n",
       "      <th>49998</th>\n",
       "      <td> 1734149</td>\n",
       "      <td> 09/16/2008</td>\n",
       "      <td>2006-01-01</td>\n",
       "      <td> CN135016</td>\n",
       "      <td> COMPLIED</td>\n",
       "      <td> 09/05/2008</td>\n",
       "      <td>               MICE/RODENTS</td>\n",
       "      <td> NaN</td>\n",
       "      <td>                                  MICE ON PREMISES</td>\n",
       "      <td> Exterminate rodents in building and seal openi...</td>\n",
       "      <td>...</td>\n",
       "      <td> PERIODIC</td>\n",
       "      <td> CONSERVATION</td>\n",
       "      <td> 4836 S INDIANA AVE</td>\n",
       "      <td> 18261</td>\n",
       "      <td> NaN</td>\n",
       "      <td> 41.806381</td>\n",
       "      <td>-87.621283</td>\n",
       "      <td>  (41.80638088214982,-87.62128295874425)</td>\n",
       "      <td> 3.733049</td>\n",
       "      <td> 42.312305</td>\n",
       "    </tr>\n",
       "    <tr>\n",
       "      <th>49999</th>\n",
       "      <td> 1834762</td>\n",
       "      <td> 01/12/2007</td>\n",
       "      <td>2006-01-01</td>\n",
       "      <td> CN190019</td>\n",
       "      <td> COMPLIED</td>\n",
       "      <td> 01/11/2007</td>\n",
       "      <td> ARRANGE PREMISE INSPECTION</td>\n",
       "      <td> NaN</td>\n",
       "      <td> NO ENTRY TO INTERIOR TO VERIFY OCCUPANCY AND D...</td>\n",
       "      <td>   Arrange for inspection of premises. (13-12-100)</td>\n",
       "      <td>...</td>\n",
       "      <td> PERIODIC</td>\n",
       "      <td> CONSERVATION</td>\n",
       "      <td>  200 N KOSTNER AVE</td>\n",
       "      <td>  1531</td>\n",
       "      <td> NaN</td>\n",
       "      <td> 41.883310</td>\n",
       "      <td>-87.735709</td>\n",
       "      <td>  (41.88330951242491,-87.73570901056128)</td>\n",
       "      <td> 3.734887</td>\n",
       "      <td> 42.333836</td>\n",
       "    </tr>\n",
       "  </tbody>\n",
       "</table>\n",
       "<p>5 rows × 24 columns</p>\n",
       "</div>"
      ],
      "text/plain": [
       "            id violation_last_modified_date violation_date violation_code  \\\n",
       "49995  1438713                   06/16/2006     2006-01-01       CN063014   \n",
       "49996  1357061                   07/17/2006     2006-01-01       CN070024   \n",
       "49997  1430847                   10/14/2008     2006-01-01       CN031013   \n",
       "49998  1734149                   09/16/2008     2006-01-01       CN135016   \n",
       "49999  1834762                   01/12/2007     2006-01-01       CN190019   \n",
       "\n",
       "      violation_status violation_status_date       violation_description  \\\n",
       "49995             OPEN                   NaN                     CHIMNEY   \n",
       "49996             OPEN                   NaN         REPAIR PORCH SYSTEM   \n",
       "49997         COMPLIED            07/10/2008  FIRE EXTNGSHR REQ, RESDNTL   \n",
       "49998         COMPLIED            09/05/2008                MICE/RODENTS   \n",
       "49999         COMPLIED            01/11/2007  ARRANGE PREMISE INSPECTION   \n",
       "\n",
       "      violation_location                       violation_inspector_comments  \\\n",
       "49995                NaN            CHIMNEY WASHED OUT MORTAR LOOSE BRICKS.   \n",
       "49996                NaN  35 REAR PORCH GRADE TO 3RD RAILS TOO SHORT, MI...   \n",
       "49997                NaN            ALL ELEVATION MISSING FIRE EXTINGUISHER   \n",
       "49998                NaN                                   MICE ON PREMISES   \n",
       "49999                NaN  NO ENTRY TO INTERIOR TO VERIFY OCCUPANCY AND D...   \n",
       "\n",
       "                                     violation_ordinance    ...      \\\n",
       "49995  Failed to maintain chimney in safe and sound w...    ...       \n",
       "49996  Failed to repair or replace defective or missi...    ...       \n",
       "49997  Failed to install approved fire extinguishers ...    ...       \n",
       "49998  Exterminate rodents in building and seal openi...    ...       \n",
       "49999    Arrange for inspection of premises. (13-12-100)    ...       \n",
       "\n",
       "      inspection_category  department_bureau             address  \\\n",
       "49995            PERIODIC       CONSERVATION      1854 E 79TH ST   \n",
       "49996            PERIODIC       CONSERVATION      31 N LOREL AVE   \n",
       "49997            PERIODIC       CONSERVATION     6501 S LOWE AVE   \n",
       "49998            PERIODIC       CONSERVATION  4836 S INDIANA AVE   \n",
       "49999            PERIODIC       CONSERVATION   200 N KOSTNER AVE   \n",
       "\n",
       "      property_group  ssa   latitude  longitude  \\\n",
       "49995          20597   50  41.751683 -87.578659   \n",
       "49996           1612  NaN  41.881299 -87.758621   \n",
       "49997          19693  NaN  41.776074 -87.640625   \n",
       "49998          18261  NaN  41.806381 -87.621283   \n",
       "49999           1531  NaN  41.883310 -87.735709   \n",
       "\n",
       "                                      location   log_lat    new_lat  \n",
       "49995   (41.75168267214598,-87.57865870399478)  3.731740  42.526625  \n",
       "49996  (41.881299199557894,-87.75862053499047)  3.734839  42.071508  \n",
       "49997    (41.7760739361563,-87.64062455203374)  3.732324  42.403814  \n",
       "49998   (41.80638088214982,-87.62128295874425)  3.733049  42.312305  \n",
       "49999   (41.88330951242491,-87.73570901056128)  3.734887  42.333836  \n",
       "\n",
       "[5 rows x 24 columns]"
      ]
     },
     "execution_count": 31,
     "metadata": {},
     "output_type": "execute_result"
    }
   ],
   "source": [
    "df.tail(5)"
   ]
  },
  {
   "cell_type": "code",
   "execution_count": 10,
   "metadata": {
    "collapsed": false
   },
   "outputs": [
    {
     "data": {
      "text/html": [
       "<div style=\"max-height:1000px;max-width:1500px;overflow:auto;\">\n",
       "<table border=\"1\" class=\"dataframe\">\n",
       "  <thead>\n",
       "    <tr style=\"text-align: right;\">\n",
       "      <th></th>\n",
       "      <th>ID</th>\n",
       "      <th>VIOLATION LAST MODIFIED DATE</th>\n",
       "      <th>VIOLATION DATE</th>\n",
       "      <th>VIOLATION CODE</th>\n",
       "      <th>VIOLATION STATUS</th>\n",
       "      <th>VIOLATION STATUS DATE</th>\n",
       "      <th>VIOLATION DESCRIPTION</th>\n",
       "      <th>VIOLATION LOCATION</th>\n",
       "      <th>VIOLATION INSPECTOR COMMENTS</th>\n",
       "      <th>VIOLATION ORDINANCE</th>\n",
       "      <th>...</th>\n",
       "      <th>INSPECTION STATUS</th>\n",
       "      <th>INSPECTION WAIVED</th>\n",
       "      <th>INSPECTION CATEGORY</th>\n",
       "      <th>DEPARTMENT BUREAU</th>\n",
       "      <th>ADDRESS</th>\n",
       "      <th>PROPERTY GROUP</th>\n",
       "      <th>SSA</th>\n",
       "      <th>LATITUDE</th>\n",
       "      <th>LONGITUDE</th>\n",
       "      <th>LOCATION</th>\n",
       "    </tr>\n",
       "  </thead>\n",
       "  <tbody>\n",
       "    <tr>\n",
       "      <th>0</th>\n",
       "      <td> 5063843</td>\n",
       "      <td> 05/21/2015</td>\n",
       "      <td> 05/21/2015</td>\n",
       "      <td> CN065014</td>\n",
       "      <td> OPEN</td>\n",
       "      <td> NaN</td>\n",
       "      <td>                 REPAIR LINTELS</td>\n",
       "      <td>                OTHER   :    :</td>\n",
       "      <td>                                  LINTELS; RUSTED.</td>\n",
       "      <td> Failed to maintain lintel in good repair and f...</td>\n",
       "      <td>...</td>\n",
       "      <td> FAILED</td>\n",
       "      <td> N</td>\n",
       "      <td> COMPLAINT</td>\n",
       "      <td> CONSERVATION</td>\n",
       "      <td>                 722 E 89TH ST</td>\n",
       "      <td> 461523</td>\n",
       "      <td>  51</td>\n",
       "      <td> 41.733089</td>\n",
       "      <td>-87.606184</td>\n",
       "      <td> (41.73308939713441,-87.60618433527188)</td>\n",
       "    </tr>\n",
       "    <tr>\n",
       "      <th>1</th>\n",
       "      <td> 5063990</td>\n",
       "      <td> 05/21/2015</td>\n",
       "      <td> 05/21/2015</td>\n",
       "      <td> CN044013</td>\n",
       "      <td> OPEN</td>\n",
       "      <td> NaN</td>\n",
       "      <td> PIPE OPENING W/NONCOMBUST MATL</td>\n",
       "      <td> OTHER   :    :MULTIPLE FLOORS</td>\n",
       "      <td> OPENINGS AROUND PIPES, SEAL WITH APPROVED MATE...</td>\n",
       "      <td> Failed to fill openings around exposed pipes o...</td>\n",
       "      <td>...</td>\n",
       "      <td> FAILED</td>\n",
       "      <td> N</td>\n",
       "      <td>  PERIODIC</td>\n",
       "      <td> CONSERVATION</td>\n",
       "      <td> 6444 S DR MARTIN L KING JR DR</td>\n",
       "      <td>  19575</td>\n",
       "      <td> NaN</td>\n",
       "      <td> 41.777088</td>\n",
       "      <td>-87.615694</td>\n",
       "      <td> (41.77708792596553,-87.61569442972947)</td>\n",
       "    </tr>\n",
       "    <tr>\n",
       "      <th>2</th>\n",
       "      <td> 5064022</td>\n",
       "      <td> 05/21/2015</td>\n",
       "      <td> 05/21/2015</td>\n",
       "      <td> CN104035</td>\n",
       "      <td> OPEN</td>\n",
       "      <td> NaN</td>\n",
       "      <td>                MAINTAIN WINDOW</td>\n",
       "      <td>                OTHER   :    :</td>\n",
       "      <td> ALL ELEVATIONS , WOOD WINDOW FRAMES  AND NORTH...</td>\n",
       "      <td> Failed to maintain windows in sound condition ...</td>\n",
       "      <td>...</td>\n",
       "      <td> FAILED</td>\n",
       "      <td> N</td>\n",
       "      <td> COMPLAINT</td>\n",
       "      <td> CONSERVATION</td>\n",
       "      <td>             3115 N SAWYER AVE</td>\n",
       "      <td> 117375</td>\n",
       "      <td> NaN</td>\n",
       "      <td> 41.937995</td>\n",
       "      <td>-87.708657</td>\n",
       "      <td> (41.93799454179893,-87.70865671096144)</td>\n",
       "    </tr>\n",
       "  </tbody>\n",
       "</table>\n",
       "<p>3 rows × 22 columns</p>\n",
       "</div>"
      ],
      "text/plain": [
       "        ID VIOLATION LAST MODIFIED DATE VIOLATION DATE VIOLATION CODE  \\\n",
       "0  5063843                   05/21/2015     05/21/2015       CN065014   \n",
       "1  5063990                   05/21/2015     05/21/2015       CN044013   \n",
       "2  5064022                   05/21/2015     05/21/2015       CN104035   \n",
       "\n",
       "  VIOLATION STATUS VIOLATION STATUS DATE           VIOLATION DESCRIPTION  \\\n",
       "0             OPEN                   NaN                  REPAIR LINTELS   \n",
       "1             OPEN                   NaN  PIPE OPENING W/NONCOMBUST MATL   \n",
       "2             OPEN                   NaN                 MAINTAIN WINDOW   \n",
       "\n",
       "              VIOLATION LOCATION  \\\n",
       "0                 OTHER   :    :   \n",
       "1  OTHER   :    :MULTIPLE FLOORS   \n",
       "2                 OTHER   :    :   \n",
       "\n",
       "                        VIOLATION INSPECTOR COMMENTS  \\\n",
       "0                                   LINTELS; RUSTED.   \n",
       "1  OPENINGS AROUND PIPES, SEAL WITH APPROVED MATE...   \n",
       "2  ALL ELEVATIONS , WOOD WINDOW FRAMES  AND NORTH...   \n",
       "\n",
       "                                 VIOLATION ORDINANCE  \\\n",
       "0  Failed to maintain lintel in good repair and f...   \n",
       "1  Failed to fill openings around exposed pipes o...   \n",
       "2  Failed to maintain windows in sound condition ...   \n",
       "\n",
       "                    ...                   INSPECTION STATUS  \\\n",
       "0                   ...                              FAILED   \n",
       "1                   ...                              FAILED   \n",
       "2                   ...                              FAILED   \n",
       "\n",
       "   INSPECTION WAIVED INSPECTION CATEGORY DEPARTMENT BUREAU  \\\n",
       "0                  N           COMPLAINT      CONSERVATION   \n",
       "1                  N            PERIODIC      CONSERVATION   \n",
       "2                  N           COMPLAINT      CONSERVATION   \n",
       "\n",
       "                         ADDRESS PROPERTY GROUP  SSA   LATITUDE  LONGITUDE  \\\n",
       "0                  722 E 89TH ST         461523   51  41.733089 -87.606184   \n",
       "1  6444 S DR MARTIN L KING JR DR          19575  NaN  41.777088 -87.615694   \n",
       "2              3115 N SAWYER AVE         117375  NaN  41.937995 -87.708657   \n",
       "\n",
       "                                 LOCATION  \n",
       "0  (41.73308939713441,-87.60618433527188)  \n",
       "1  (41.77708792596553,-87.61569442972947)  \n",
       "2  (41.93799454179893,-87.70865671096144)  \n",
       "\n",
       "[3 rows x 22 columns]"
      ]
     },
     "execution_count": 10,
     "metadata": {},
     "output_type": "execute_result"
    }
   ],
   "source": [
    "df.head(3)"
   ]
  },
  {
   "cell_type": "code",
   "execution_count": 11,
   "metadata": {
    "collapsed": false
   },
   "outputs": [
    {
     "data": {
      "text/plain": [
       "Index([u'ID', u'VIOLATION LAST MODIFIED DATE', u'VIOLATION DATE', u'VIOLATION CODE', u'VIOLATION STATUS', u'VIOLATION STATUS DATE', u'VIOLATION DESCRIPTION', u'VIOLATION LOCATION', u'VIOLATION INSPECTOR COMMENTS', u'VIOLATION ORDINANCE', u'INSPECTOR ID', u'INSPECTION NUMBER', u'INSPECTION STATUS', u'INSPECTION WAIVED', u'INSPECTION CATEGORY', u'DEPARTMENT BUREAU', u'ADDRESS', u'PROPERTY GROUP', u'SSA', u'LATITUDE', u'LONGITUDE', u'LOCATION'], dtype='object')"
      ]
     },
     "execution_count": 11,
     "metadata": {},
     "output_type": "execute_result"
    }
   ],
   "source": [
    "df.columns "
   ]
  },
  {
   "cell_type": "code",
   "execution_count": 13,
   "metadata": {
    "collapsed": false
   },
   "outputs": [
    {
     "data": {
      "text/plain": [
       "Index([u'id', u'violation_last_modified_date', u'violation_date', u'violation_code', u'violation_status', u'violation_status_date', u'violation_description', u'violation_location', u'violation_inspector_comments', u'violation_ordinance', u'inspector_id', u'inspection_number', u'inspection_status', u'inspection_waived', u'inspection_category', u'department_bureau', u'address', u'property_group', u'ssa', u'latitude', u'longitude', u'location'], dtype='object')"
      ]
     },
     "execution_count": 13,
     "metadata": {},
     "output_type": "execute_result"
    }
   ],
   "source": [
    "#All columns have spaces, create a function that adds underscore \n",
    "import re \n",
    "\n",
    "def spaces_to_snake(column_name): \n",
    "    s = re.sub(r\"\\s+\", '_', column_name)\n",
    "    return s.lower()\n",
    "df.columns = [spaces_to_snake(col) for col in df.columns]\n",
    "\n",
    "df.columns"
   ]
  },
  {
   "cell_type": "code",
   "execution_count": 14,
   "metadata": {
    "collapsed": false
   },
   "outputs": [
    {
     "data": {
      "text/plain": [
       "0                    REPAIR LINTELS\n",
       "1    PIPE OPENING W/NONCOMBUST MATL\n",
       "2                   MAINTAIN WINDOW\n",
       "3        POST OWNER/MANAGERS NAME/#\n",
       "4     REPLCE WINDOW PANES, PLEXGLAS\n",
       "Name: violation_description, dtype: object"
      ]
     },
     "execution_count": 14,
     "metadata": {},
     "output_type": "execute_result"
    }
   ],
   "source": [
    "# referencing individual columns \n",
    "df.violation_description.head() "
   ]
  },
  {
   "cell_type": "code",
   "execution_count": 15,
   "metadata": {
    "collapsed": false
   },
   "outputs": [
    {
     "data": {
      "text/plain": [
       "id                                int64\n",
       "violation_last_modified_date     object\n",
       "violation_date                   object\n",
       "violation_code                   object\n",
       "violation_status                 object\n",
       "violation_status_date            object\n",
       "violation_description            object\n",
       "violation_location               object\n",
       "violation_inspector_comments     object\n",
       "violation_ordinance              object\n",
       "inspector_id                     object\n",
       "inspection_number                 int64\n",
       "inspection_status                object\n",
       "inspection_waived                object\n",
       "inspection_category              object\n",
       "department_bureau                object\n",
       "address                          object\n",
       "property_group                    int64\n",
       "ssa                              object\n",
       "latitude                        float64\n",
       "longitude                       float64\n",
       "location                         object\n",
       "dtype: object"
      ]
     },
     "execution_count": 15,
     "metadata": {},
     "output_type": "execute_result"
    }
   ],
   "source": [
    "df.dtypes"
   ]
  },
  {
   "cell_type": "code",
   "execution_count": 16,
   "metadata": {
    "collapsed": false
   },
   "outputs": [
    {
     "data": {
      "text/plain": [
       "0   2015-05-21\n",
       "1   2015-05-21\n",
       "2   2015-05-21\n",
       "3   2015-05-21\n",
       "4   2015-05-21\n",
       "Name: violation_date, dtype: datetime64[ns]"
      ]
     },
     "execution_count": 16,
     "metadata": {},
     "output_type": "execute_result"
    }
   ],
   "source": [
    "#lots of dates, but they are objects. convert to dates\n",
    "df.violation_date = pd.to_datetime(df.violation_date) \n",
    "df.violation_date.head()"
   ]
  },
  {
   "cell_type": "code",
   "execution_count": 17,
   "metadata": {
    "collapsed": false
   },
   "outputs": [
    {
     "data": {
      "text/html": [
       "<div style=\"max-height:1000px;max-width:1500px;overflow:auto;\">\n",
       "<table border=\"1\" class=\"dataframe\">\n",
       "  <thead>\n",
       "    <tr style=\"text-align: right;\">\n",
       "      <th></th>\n",
       "      <th>id</th>\n",
       "      <th>inspection_number</th>\n",
       "      <th>property_group</th>\n",
       "      <th>latitude</th>\n",
       "      <th>longitude</th>\n",
       "    </tr>\n",
       "  </thead>\n",
       "  <tbody>\n",
       "    <tr>\n",
       "      <th>count</th>\n",
       "      <td>   50000.000000</td>\n",
       "      <td>    50000.000000</td>\n",
       "      <td>  50000.000000</td>\n",
       "      <td> 49952.000000</td>\n",
       "      <td> 49952.000000</td>\n",
       "    </tr>\n",
       "    <tr>\n",
       "      <th>mean</th>\n",
       "      <td> 3300031.329640</td>\n",
       "      <td>  6195288.986320</td>\n",
       "      <td> 197729.741420</td>\n",
       "      <td>    41.845539</td>\n",
       "      <td>   -87.673442</td>\n",
       "    </tr>\n",
       "    <tr>\n",
       "      <th>std</th>\n",
       "      <td> 1088123.083684</td>\n",
       "      <td>  4296079.998463</td>\n",
       "      <td> 183132.260836</td>\n",
       "      <td>     0.087437</td>\n",
       "      <td>     0.057008</td>\n",
       "    </tr>\n",
       "    <tr>\n",
       "      <th>min</th>\n",
       "      <td>  742158.000000</td>\n",
       "      <td>   375113.000000</td>\n",
       "      <td>   1001.000000</td>\n",
       "      <td>    41.644712</td>\n",
       "      <td>   -87.914436</td>\n",
       "    </tr>\n",
       "    <tr>\n",
       "      <th>25%</th>\n",
       "      <td> 2400057.500000</td>\n",
       "      <td>  2021217.500000</td>\n",
       "      <td>  20600.750000</td>\n",
       "      <td>    41.771440</td>\n",
       "      <td>   -87.714271</td>\n",
       "    </tr>\n",
       "    <tr>\n",
       "      <th>50%</th>\n",
       "      <td> 3421152.000000</td>\n",
       "      <td>  2813561.000000</td>\n",
       "      <td> 142605.000000</td>\n",
       "      <td>    41.854001</td>\n",
       "      <td>   -87.670709</td>\n",
       "    </tr>\n",
       "    <tr>\n",
       "      <th>75%</th>\n",
       "      <td> 4223617.750000</td>\n",
       "      <td> 10630848.750000</td>\n",
       "      <td> 363929.250000</td>\n",
       "      <td>    41.912843</td>\n",
       "      <td>   -87.634551</td>\n",
       "    </tr>\n",
       "    <tr>\n",
       "      <th>max</th>\n",
       "      <td> 5064815.000000</td>\n",
       "      <td> 11597625.000000</td>\n",
       "      <td> 663759.000000</td>\n",
       "      <td>    42.022645</td>\n",
       "      <td>   -87.525898</td>\n",
       "    </tr>\n",
       "  </tbody>\n",
       "</table>\n",
       "</div>"
      ],
      "text/plain": [
       "                   id  inspection_number  property_group      latitude  \\\n",
       "count    50000.000000       50000.000000    50000.000000  49952.000000   \n",
       "mean   3300031.329640     6195288.986320   197729.741420     41.845539   \n",
       "std    1088123.083684     4296079.998463   183132.260836      0.087437   \n",
       "min     742158.000000      375113.000000     1001.000000     41.644712   \n",
       "25%    2400057.500000     2021217.500000    20600.750000     41.771440   \n",
       "50%    3421152.000000     2813561.000000   142605.000000     41.854001   \n",
       "75%    4223617.750000    10630848.750000   363929.250000     41.912843   \n",
       "max    5064815.000000    11597625.000000   663759.000000     42.022645   \n",
       "\n",
       "          longitude  \n",
       "count  49952.000000  \n",
       "mean     -87.673442  \n",
       "std        0.057008  \n",
       "min      -87.914436  \n",
       "25%      -87.714271  \n",
       "50%      -87.670709  \n",
       "75%      -87.634551  \n",
       "max      -87.525898  "
      ]
     },
     "execution_count": 17,
     "metadata": {},
     "output_type": "execute_result"
    }
   ],
   "source": [
    "#explore data frame\n",
    "df.describe()"
   ]
  },
  {
   "cell_type": "code",
   "execution_count": 18,
   "metadata": {
    "collapsed": false
   },
   "outputs": [
    {
     "data": {
      "text/plain": [
       "FAILED    38371\n",
       "PASSED     6426\n",
       "CLOSED     5199\n",
       "HOLD          4\n",
       "dtype: int64"
      ]
     },
     "execution_count": 18,
     "metadata": {},
     "output_type": "execute_result"
    }
   ],
   "source": [
    "# only works on numerical columns, for categorical use value_counts \n",
    "pd.value_counts(df.inspection_status)"
   ]
  },
  {
   "cell_type": "code",
   "execution_count": 21,
   "metadata": {
    "collapsed": false
   },
   "outputs": [
    {
     "data": {
      "text/plain": [
       "False    44705\n",
       "True      5295\n",
       "dtype: int64"
      ]
     },
     "execution_count": 21,
     "metadata": {},
     "output_type": "execute_result"
    }
   ],
   "source": [
    "# count null values \n",
    "pd.value_counts(df.violation_inspector_comments.isnull())"
   ]
  },
  {
   "cell_type": "code",
   "execution_count": 24,
   "metadata": {
    "collapsed": true
   },
   "outputs": [],
   "source": [
    "df.violation_inspector_comments = df.violation_inspector_comments.fillna(\"No Comment\")"
   ]
  },
  {
   "cell_type": "code",
   "execution_count": 25,
   "metadata": {
    "collapsed": false
   },
   "outputs": [
    {
     "data": {
      "text/html": [
       "<div style=\"max-height:1000px;max-width:1500px;overflow:auto;\">\n",
       "<table border=\"1\" class=\"dataframe\">\n",
       "  <thead>\n",
       "    <tr style=\"text-align: right;\">\n",
       "      <th></th>\n",
       "      <th>id</th>\n",
       "      <th>violation_last_modified_date</th>\n",
       "      <th>violation_date</th>\n",
       "      <th>violation_code</th>\n",
       "      <th>violation_status</th>\n",
       "      <th>violation_status_date</th>\n",
       "      <th>violation_description</th>\n",
       "      <th>violation_location</th>\n",
       "      <th>violation_inspector_comments</th>\n",
       "      <th>violation_ordinance</th>\n",
       "      <th>...</th>\n",
       "      <th>inspection_status</th>\n",
       "      <th>inspection_waived</th>\n",
       "      <th>inspection_category</th>\n",
       "      <th>department_bureau</th>\n",
       "      <th>address</th>\n",
       "      <th>property_group</th>\n",
       "      <th>ssa</th>\n",
       "      <th>latitude</th>\n",
       "      <th>longitude</th>\n",
       "      <th>location</th>\n",
       "    </tr>\n",
       "  </thead>\n",
       "  <tbody>\n",
       "    <tr>\n",
       "      <th>13</th>\n",
       "      <td> 5063459</td>\n",
       "      <td> 05/20/2015</td>\n",
       "      <td>2015-05-20</td>\n",
       "      <td> CN193019</td>\n",
       "      <td> OPEN</td>\n",
       "      <td> NaN</td>\n",
       "      <td> REPAIR/WRECK DANGER RESID PREM</td>\n",
       "      <td> NaN</td>\n",
       "      <td> No Comment</td>\n",
       "      <td> Repair or wreck dangerous and vacant residenti...</td>\n",
       "      <td>...</td>\n",
       "      <td> CLOSED</td>\n",
       "      <td> N</td>\n",
       "      <td> COMPLAINT</td>\n",
       "      <td> DEMOLITION</td>\n",
       "      <td>    3051 S BROAD ST</td>\n",
       "      <td> 285348</td>\n",
       "      <td> NaN</td>\n",
       "      <td> 41.838454</td>\n",
       "      <td>-87.660979</td>\n",
       "      <td>   (41.83845438362799,-87.6609787384341)</td>\n",
       "    </tr>\n",
       "    <tr>\n",
       "      <th>15</th>\n",
       "      <td> 5063885</td>\n",
       "      <td> 05/21/2015</td>\n",
       "      <td>2015-05-20</td>\n",
       "      <td>   BR1001</td>\n",
       "      <td> OPEN</td>\n",
       "      <td> NaN</td>\n",
       "      <td>   OWNER OR LICENSED CONTRACTOR</td>\n",
       "      <td> NaN</td>\n",
       "      <td> No Comment</td>\n",
       "      <td> The code violations listed below must be corre...</td>\n",
       "      <td>...</td>\n",
       "      <td> CLOSED</td>\n",
       "      <td> N</td>\n",
       "      <td>  PERIODIC</td>\n",
       "      <td>     BOILER</td>\n",
       "      <td>   6448 S TRIPP AVE</td>\n",
       "      <td> 387870</td>\n",
       "      <td> NaN</td>\n",
       "      <td> 41.775328</td>\n",
       "      <td>-87.728922</td>\n",
       "      <td> (41.775328312329904,-87.72892174006991)</td>\n",
       "    </tr>\n",
       "    <tr>\n",
       "      <th>16</th>\n",
       "      <td> 5063912</td>\n",
       "      <td> 05/21/2015</td>\n",
       "      <td>2015-05-20</td>\n",
       "      <td> PL151137</td>\n",
       "      <td> OPEN</td>\n",
       "      <td> NaN</td>\n",
       "      <td>                           OPEN</td>\n",
       "      <td> NaN</td>\n",
       "      <td> No Comment</td>\n",
       "      <td>                                               NaN</td>\n",
       "      <td>...</td>\n",
       "      <td> FAILED</td>\n",
       "      <td> N</td>\n",
       "      <td>    PERMIT</td>\n",
       "      <td>   PLUMBING</td>\n",
       "      <td>   3835 W CERMAK RD</td>\n",
       "      <td> 280823</td>\n",
       "      <td> NaN</td>\n",
       "      <td> 41.851485</td>\n",
       "      <td>-87.721159</td>\n",
       "      <td>  (41.85148492680666,-87.72115941535648)</td>\n",
       "    </tr>\n",
       "    <tr>\n",
       "      <th>18</th>\n",
       "      <td> 5063320</td>\n",
       "      <td> 05/20/2015</td>\n",
       "      <td>2015-05-20</td>\n",
       "      <td> CN193019</td>\n",
       "      <td> OPEN</td>\n",
       "      <td> NaN</td>\n",
       "      <td> REPAIR/WRECK DANGER RESID PREM</td>\n",
       "      <td> NaN</td>\n",
       "      <td> No Comment</td>\n",
       "      <td> Repair or wreck dangerous and vacant residenti...</td>\n",
       "      <td>...</td>\n",
       "      <td> CLOSED</td>\n",
       "      <td> N</td>\n",
       "      <td> COMPLAINT</td>\n",
       "      <td> DEMOLITION</td>\n",
       "      <td>  11025 S ESMOND ST</td>\n",
       "      <td> 516079</td>\n",
       "      <td> NaN</td>\n",
       "      <td> 41.693018</td>\n",
       "      <td>-87.667286</td>\n",
       "      <td>  (41.69301757344688,-87.66728567428113)</td>\n",
       "    </tr>\n",
       "    <tr>\n",
       "      <th>20</th>\n",
       "      <td> 5064410</td>\n",
       "      <td> 05/20/2015</td>\n",
       "      <td>2015-05-20</td>\n",
       "      <td> CN193039</td>\n",
       "      <td> OPEN</td>\n",
       "      <td> NaN</td>\n",
       "      <td>  POST OWNER NAME OF VACNT BLDG</td>\n",
       "      <td> NaN</td>\n",
       "      <td> No Comment</td>\n",
       "      <td> Post conspicuously name, address, and telephon...</td>\n",
       "      <td>...</td>\n",
       "      <td> CLOSED</td>\n",
       "      <td> N</td>\n",
       "      <td> COMPLAINT</td>\n",
       "      <td> DEMOLITION</td>\n",
       "      <td> 6928 S KIMBARK AVE</td>\n",
       "      <td> 393870</td>\n",
       "      <td> NaN</td>\n",
       "      <td> 41.769012</td>\n",
       "      <td>-87.594164</td>\n",
       "      <td>  (41.76901189738516,-87.59416364991507)</td>\n",
       "    </tr>\n",
       "  </tbody>\n",
       "</table>\n",
       "<p>5 rows × 22 columns</p>\n",
       "</div>"
      ],
      "text/plain": [
       "         id violation_last_modified_date violation_date violation_code  \\\n",
       "13  5063459                   05/20/2015     2015-05-20       CN193019   \n",
       "15  5063885                   05/21/2015     2015-05-20         BR1001   \n",
       "16  5063912                   05/21/2015     2015-05-20       PL151137   \n",
       "18  5063320                   05/20/2015     2015-05-20       CN193019   \n",
       "20  5064410                   05/20/2015     2015-05-20       CN193039   \n",
       "\n",
       "   violation_status violation_status_date           violation_description  \\\n",
       "13             OPEN                   NaN  REPAIR/WRECK DANGER RESID PREM   \n",
       "15             OPEN                   NaN    OWNER OR LICENSED CONTRACTOR   \n",
       "16             OPEN                   NaN                            OPEN   \n",
       "18             OPEN                   NaN  REPAIR/WRECK DANGER RESID PREM   \n",
       "20             OPEN                   NaN   POST OWNER NAME OF VACNT BLDG   \n",
       "\n",
       "   violation_location violation_inspector_comments  \\\n",
       "13                NaN                   No Comment   \n",
       "15                NaN                   No Comment   \n",
       "16                NaN                   No Comment   \n",
       "18                NaN                   No Comment   \n",
       "20                NaN                   No Comment   \n",
       "\n",
       "                                  violation_ordinance  \\\n",
       "13  Repair or wreck dangerous and vacant residenti...   \n",
       "15  The code violations listed below must be corre...   \n",
       "16                                                NaN   \n",
       "18  Repair or wreck dangerous and vacant residenti...   \n",
       "20  Post conspicuously name, address, and telephon...   \n",
       "\n",
       "                     ...                    inspection_status  \\\n",
       "13                   ...                               CLOSED   \n",
       "15                   ...                               CLOSED   \n",
       "16                   ...                               FAILED   \n",
       "18                   ...                               CLOSED   \n",
       "20                   ...                               CLOSED   \n",
       "\n",
       "    inspection_waived inspection_category department_bureau  \\\n",
       "13                  N           COMPLAINT        DEMOLITION   \n",
       "15                  N            PERIODIC            BOILER   \n",
       "16                  N              PERMIT          PLUMBING   \n",
       "18                  N           COMPLAINT        DEMOLITION   \n",
       "20                  N           COMPLAINT        DEMOLITION   \n",
       "\n",
       "               address property_group  ssa   latitude  longitude  \\\n",
       "13     3051 S BROAD ST         285348  NaN  41.838454 -87.660979   \n",
       "15    6448 S TRIPP AVE         387870  NaN  41.775328 -87.728922   \n",
       "16    3835 W CERMAK RD         280823  NaN  41.851485 -87.721159   \n",
       "18   11025 S ESMOND ST         516079  NaN  41.693018 -87.667286   \n",
       "20  6928 S KIMBARK AVE         393870  NaN  41.769012 -87.594164   \n",
       "\n",
       "                                   location  \n",
       "13    (41.83845438362799,-87.6609787384341)  \n",
       "15  (41.775328312329904,-87.72892174006991)  \n",
       "16   (41.85148492680666,-87.72115941535648)  \n",
       "18   (41.69301757344688,-87.66728567428113)  \n",
       "20   (41.76901189738516,-87.59416364991507)  \n",
       "\n",
       "[5 rows x 22 columns]"
      ]
     },
     "execution_count": 25,
     "metadata": {},
     "output_type": "execute_result"
    }
   ],
   "source": [
    "# select and subsetting \n",
    "df[df.violation_inspector_comments == 'No Comment'].head()"
   ]
  },
  {
   "cell_type": "code",
   "execution_count": 26,
   "metadata": {
    "collapsed": false
   },
   "outputs": [
    {
     "data": {
      "text/html": [
       "<div style=\"max-height:1000px;max-width:1500px;overflow:auto;\">\n",
       "<table border=\"1\" class=\"dataframe\">\n",
       "  <thead>\n",
       "    <tr style=\"text-align: right;\">\n",
       "      <th></th>\n",
       "      <th>latitude</th>\n",
       "      <th>log_lat</th>\n",
       "    </tr>\n",
       "  </thead>\n",
       "  <tbody>\n",
       "    <tr>\n",
       "      <th>0</th>\n",
       "      <td> 41.733089</td>\n",
       "      <td> 3.731294</td>\n",
       "    </tr>\n",
       "    <tr>\n",
       "      <th>1</th>\n",
       "      <td> 41.777088</td>\n",
       "      <td> 3.732348</td>\n",
       "    </tr>\n",
       "    <tr>\n",
       "      <th>2</th>\n",
       "      <td> 41.937995</td>\n",
       "      <td> 3.736192</td>\n",
       "    </tr>\n",
       "    <tr>\n",
       "      <th>3</th>\n",
       "      <td> 41.937995</td>\n",
       "      <td> 3.736192</td>\n",
       "    </tr>\n",
       "    <tr>\n",
       "      <th>4</th>\n",
       "      <td> 41.791470</td>\n",
       "      <td> 3.732692</td>\n",
       "    </tr>\n",
       "  </tbody>\n",
       "</table>\n",
       "</div>"
      ],
      "text/plain": [
       "    latitude   log_lat\n",
       "0  41.733089  3.731294\n",
       "1  41.777088  3.732348\n",
       "2  41.937995  3.736192\n",
       "3  41.937995  3.736192\n",
       "4  41.791470  3.732692"
      ]
     },
     "execution_count": 26,
     "metadata": {},
     "output_type": "execute_result"
    }
   ],
   "source": [
    "#apply function \n",
    "df['log_lat'] = df.latitude.apply(np.log) \n",
    "df[['latitude', 'log_lat']].head()"
   ]
  },
  {
   "cell_type": "code",
   "execution_count": 27,
   "metadata": {
    "collapsed": true
   },
   "outputs": [],
   "source": [
    "# add noise, take value in column, x, and add a random number \n",
    "df['new_lat'] = df.latitude.apply(lambda x: x + np.random.rand())"
   ]
  },
  {
   "cell_type": "code",
   "execution_count": 28,
   "metadata": {
    "collapsed": false
   },
   "outputs": [
    {
     "data": {
      "text/html": [
       "<div style=\"max-height:1000px;max-width:1500px;overflow:auto;\">\n",
       "<table border=\"1\" class=\"dataframe\">\n",
       "  <thead>\n",
       "    <tr style=\"text-align: right;\">\n",
       "      <th></th>\n",
       "      <th>latitude</th>\n",
       "      <th>log_lat</th>\n",
       "      <th>new_lat</th>\n",
       "    </tr>\n",
       "  </thead>\n",
       "  <tbody>\n",
       "    <tr>\n",
       "      <th>0</th>\n",
       "      <td> 41.733089</td>\n",
       "      <td> 3.731294</td>\n",
       "      <td> 41.803355</td>\n",
       "    </tr>\n",
       "    <tr>\n",
       "      <th>1</th>\n",
       "      <td> 41.777088</td>\n",
       "      <td> 3.732348</td>\n",
       "      <td> 42.249285</td>\n",
       "    </tr>\n",
       "    <tr>\n",
       "      <th>2</th>\n",
       "      <td> 41.937995</td>\n",
       "      <td> 3.736192</td>\n",
       "      <td> 42.600653</td>\n",
       "    </tr>\n",
       "    <tr>\n",
       "      <th>3</th>\n",
       "      <td> 41.937995</td>\n",
       "      <td> 3.736192</td>\n",
       "      <td> 42.487788</td>\n",
       "    </tr>\n",
       "    <tr>\n",
       "      <th>4</th>\n",
       "      <td> 41.791470</td>\n",
       "      <td> 3.732692</td>\n",
       "      <td> 42.019968</td>\n",
       "    </tr>\n",
       "  </tbody>\n",
       "</table>\n",
       "</div>"
      ],
      "text/plain": [
       "    latitude   log_lat    new_lat\n",
       "0  41.733089  3.731294  41.803355\n",
       "1  41.777088  3.732348  42.249285\n",
       "2  41.937995  3.736192  42.600653\n",
       "3  41.937995  3.736192  42.487788\n",
       "4  41.791470  3.732692  42.019968"
      ]
     },
     "execution_count": 28,
     "metadata": {},
     "output_type": "execute_result"
    }
   ],
   "source": [
    "df[['latitude', 'log_lat', 'new_lat']].head()"
   ]
  },
  {
   "cell_type": "code",
   "execution_count": 29,
   "metadata": {
    "collapsed": false
   },
   "outputs": [
    {
     "data": {
      "text/html": [
       "<div style=\"max-height:1000px;max-width:1500px;overflow:auto;\">\n",
       "<table border=\"1\" class=\"dataframe\">\n",
       "  <thead>\n",
       "    <tr style=\"text-align: right;\">\n",
       "      <th></th>\n",
       "      <th>longitude</th>\n",
       "      <th>latitude</th>\n",
       "    </tr>\n",
       "    <tr>\n",
       "      <th>department_bureau</th>\n",
       "      <th></th>\n",
       "      <th></th>\n",
       "    </tr>\n",
       "  </thead>\n",
       "  <tbody>\n",
       "    <tr>\n",
       "      <th>BOILER</th>\n",
       "      <td>-87.670488</td>\n",
       "      <td> 41.841682</td>\n",
       "    </tr>\n",
       "    <tr>\n",
       "      <th>CONSERVATION</th>\n",
       "      <td>-87.673469</td>\n",
       "      <td> 41.846195</td>\n",
       "    </tr>\n",
       "    <tr>\n",
       "      <th>CONSTRUCTION EQUIPMENT</th>\n",
       "      <td>-87.684458</td>\n",
       "      <td> 41.928653</td>\n",
       "    </tr>\n",
       "    <tr>\n",
       "      <th>DEMOLITION</th>\n",
       "      <td>-87.669775</td>\n",
       "      <td> 41.807409</td>\n",
       "    </tr>\n",
       "    <tr>\n",
       "      <th>ELECTRICAL</th>\n",
       "      <td>-87.670183</td>\n",
       "      <td> 41.839267</td>\n",
       "    </tr>\n",
       "    <tr>\n",
       "      <th>ELEVATOR</th>\n",
       "      <td>-87.659214</td>\n",
       "      <td> 41.900869</td>\n",
       "    </tr>\n",
       "    <tr>\n",
       "      <th>IRON</th>\n",
       "      <td>-87.671767</td>\n",
       "      <td> 41.906648</td>\n",
       "    </tr>\n",
       "    <tr>\n",
       "      <th>NEW CONSTRUCTION</th>\n",
       "      <td>-87.683687</td>\n",
       "      <td> 41.863878</td>\n",
       "    </tr>\n",
       "    <tr>\n",
       "      <th>PLUMBING</th>\n",
       "      <td>-87.663690</td>\n",
       "      <td> 41.817108</td>\n",
       "    </tr>\n",
       "    <tr>\n",
       "      <th>REFRIGERATION</th>\n",
       "      <td>-87.679022</td>\n",
       "      <td> 41.874878</td>\n",
       "    </tr>\n",
       "    <tr>\n",
       "      <th>SIGNS</th>\n",
       "      <td>-87.688456</td>\n",
       "      <td> 41.874992</td>\n",
       "    </tr>\n",
       "    <tr>\n",
       "      <th>SPECIAL INSPECTION PROGRAM</th>\n",
       "      <td>-87.669368</td>\n",
       "      <td> 41.864683</td>\n",
       "    </tr>\n",
       "    <tr>\n",
       "      <th>SPECIAL TASK FORCE</th>\n",
       "      <td>-87.679063</td>\n",
       "      <td> 41.829780</td>\n",
       "    </tr>\n",
       "    <tr>\n",
       "      <th>VENTILATION</th>\n",
       "      <td>-87.684892</td>\n",
       "      <td> 41.889416</td>\n",
       "    </tr>\n",
       "    <tr>\n",
       "      <th>WATER</th>\n",
       "      <td>-87.665067</td>\n",
       "      <td> 41.866511</td>\n",
       "    </tr>\n",
       "  </tbody>\n",
       "</table>\n",
       "</div>"
      ],
      "text/plain": [
       "                            longitude   latitude\n",
       "department_bureau                               \n",
       "BOILER                     -87.670488  41.841682\n",
       "CONSERVATION               -87.673469  41.846195\n",
       "CONSTRUCTION EQUIPMENT     -87.684458  41.928653\n",
       "DEMOLITION                 -87.669775  41.807409\n",
       "ELECTRICAL                 -87.670183  41.839267\n",
       "ELEVATOR                   -87.659214  41.900869\n",
       "IRON                       -87.671767  41.906648\n",
       "NEW CONSTRUCTION           -87.683687  41.863878\n",
       "PLUMBING                   -87.663690  41.817108\n",
       "REFRIGERATION              -87.679022  41.874878\n",
       "SIGNS                      -87.688456  41.874992\n",
       "SPECIAL INSPECTION PROGRAM -87.669368  41.864683\n",
       "SPECIAL TASK FORCE         -87.679063  41.829780\n",
       "VENTILATION                -87.684892  41.889416\n",
       "WATER                      -87.665067  41.866511"
      ]
     },
     "execution_count": 29,
     "metadata": {},
     "output_type": "execute_result"
    }
   ],
   "source": [
    "#group by \n",
    "df[['department_bureau', 'longitude', 'latitude']].groupby(\"department_bureau\").mean()"
   ]
  },
  {
   "cell_type": "code",
   "execution_count": 39,
   "metadata": {
    "collapsed": false
   },
   "outputs": [],
   "source": [
    "df.violation_inspector_comments = df.violation_inspector_comments.fillna(\"No Comment\")"
   ]
  },
  {
   "cell_type": "code",
   "execution_count": 44,
   "metadata": {
    "collapsed": false
   },
   "outputs": [
    {
     "data": {
      "text/plain": [
       "id                                  0\n",
       "violation_last_modified_date        0\n",
       "violation_date                      0\n",
       "violation_code                      0\n",
       "violation_status                    0\n",
       "violation_status_date           36488\n",
       "violation_description             376\n",
       "violation_location              32484\n",
       "violation_inspector_comments        0\n",
       "violation_ordinance              1538\n",
       "inspector_id                        0\n",
       "inspection_number                   0\n",
       "inspection_status                   0\n",
       "inspection_waived                   0\n",
       "inspection_category                 0\n",
       "department_bureau                   0\n",
       "address                             0\n",
       "property_group                      0\n",
       "ssa                             40639\n",
       "latitude                           48\n",
       "longitude                          48\n",
       "location                           48\n",
       "log_lat                            48\n",
       "new_lat                            48\n",
       "dtype: int64"
      ]
     },
     "execution_count": 44,
     "metadata": {},
     "output_type": "execute_result"
    }
   ],
   "source": [
    "df.isnull().sum()"
   ]
  },
  {
   "cell_type": "code",
   "execution_count": 45,
   "metadata": {
    "collapsed": true
   },
   "outputs": [],
   "source": [
    "df.violation_inspector_comments = df.violation_inspector_comments.fillna(\"No Comment\")"
   ]
  },
  {
   "cell_type": "code",
   "execution_count": 48,
   "metadata": {
    "collapsed": false
   },
   "outputs": [
    {
     "data": {
      "text/plain": [
       "id                                       int64\n",
       "violation_last_modified_date            object\n",
       "violation_date                  datetime64[ns]\n",
       "violation_code                          object\n",
       "violation_status                        object\n",
       "violation_status_date                   object\n",
       "violation_description                   object\n",
       "violation_location                      object\n",
       "violation_inspector_comments            object\n",
       "violation_ordinance                     object\n",
       "inspector_id                            object\n",
       "inspection_number                        int64\n",
       "inspection_status                       object\n",
       "inspection_waived                       object\n",
       "inspection_category                     object\n",
       "department_bureau                       object\n",
       "address                                 object\n",
       "property_group                           int64\n",
       "ssa                                     object\n",
       "latitude                               float64\n",
       "longitude                              float64\n",
       "location                                object\n",
       "log_lat                                float64\n",
       "new_lat                                float64\n",
       "dtype: object"
      ]
     },
     "execution_count": 48,
     "metadata": {},
     "output_type": "execute_result"
    }
   ],
   "source": [
    "df.dtypes"
   ]
  },
  {
   "cell_type": "code",
   "execution_count": 49,
   "metadata": {
    "collapsed": true
   },
   "outputs": [],
   "source": [
    "df.violation_status_date = df.violation_status_date.fillna(\"No Date\")"
   ]
  },
  {
   "cell_type": "code",
   "execution_count": 52,
   "metadata": {
    "collapsed": false
   },
   "outputs": [
    {
     "data": {
      "text/plain": [
       "id                                       int64\n",
       "violation_last_modified_date            object\n",
       "violation_date                  datetime64[ns]\n",
       "violation_code                          object\n",
       "violation_status                        object\n",
       "violation_status_date                   object\n",
       "violation_description                   object\n",
       "violation_location                      object\n",
       "violation_inspector_comments            object\n",
       "violation_ordinance                     object\n",
       "inspector_id                            object\n",
       "inspection_number                        int64\n",
       "inspection_status                       object\n",
       "inspection_waived                       object\n",
       "inspection_category                     object\n",
       "department_bureau                       object\n",
       "address                                 object\n",
       "property_group                           int64\n",
       "ssa                                     object\n",
       "latitude                               float64\n",
       "longitude                              float64\n",
       "location                                object\n",
       "log_lat                                float64\n",
       "new_lat                                float64\n",
       "dtype: object"
      ]
     },
     "execution_count": 52,
     "metadata": {},
     "output_type": "execute_result"
    }
   ],
   "source": [
    "df.dtypes"
   ]
  },
  {
   "cell_type": "code",
   "execution_count": 53,
   "metadata": {
    "collapsed": false
   },
   "outputs": [
    {
     "data": {
      "text/plain": [
       "id                                  0\n",
       "violation_last_modified_date        0\n",
       "violation_date                      0\n",
       "violation_code                      0\n",
       "violation_status                    0\n",
       "violation_status_date               0\n",
       "violation_description             376\n",
       "violation_location              32484\n",
       "violation_inspector_comments        0\n",
       "violation_ordinance              1538\n",
       "inspector_id                        0\n",
       "inspection_number                   0\n",
       "inspection_status                   0\n",
       "inspection_waived                   0\n",
       "inspection_category                 0\n",
       "department_bureau                   0\n",
       "address                             0\n",
       "property_group                      0\n",
       "ssa                             40639\n",
       "latitude                           48\n",
       "longitude                          48\n",
       "location                           48\n",
       "log_lat                            48\n",
       "new_lat                            48\n",
       "dtype: int64"
      ]
     },
     "execution_count": 53,
     "metadata": {},
     "output_type": "execute_result"
    }
   ],
   "source": [
    "df.isnull().sum()"
   ]
  },
  {
   "cell_type": "code",
   "execution_count": 54,
   "metadata": {
    "collapsed": true
   },
   "outputs": [],
   "source": [
    "df.violation_location = df.violation_location.fillna(\"Unknown\")"
   ]
  },
  {
   "cell_type": "code",
   "execution_count": 55,
   "metadata": {
    "collapsed": false
   },
   "outputs": [
    {
     "data": {
      "text/plain": [
       "id                                  0\n",
       "violation_last_modified_date        0\n",
       "violation_date                      0\n",
       "violation_code                      0\n",
       "violation_status                    0\n",
       "violation_status_date               0\n",
       "violation_description             376\n",
       "violation_location                  0\n",
       "violation_inspector_comments        0\n",
       "violation_ordinance              1538\n",
       "inspector_id                        0\n",
       "inspection_number                   0\n",
       "inspection_status                   0\n",
       "inspection_waived                   0\n",
       "inspection_category                 0\n",
       "department_bureau                   0\n",
       "address                             0\n",
       "property_group                      0\n",
       "ssa                             40639\n",
       "latitude                           48\n",
       "longitude                          48\n",
       "location                           48\n",
       "log_lat                            48\n",
       "new_lat                            48\n",
       "dtype: int64"
      ]
     },
     "execution_count": 55,
     "metadata": {},
     "output_type": "execute_result"
    }
   ],
   "source": [
    "df.isnull().sum()"
   ]
  },
  {
   "cell_type": "code",
   "execution_count": 56,
   "metadata": {
    "collapsed": true
   },
   "outputs": [],
   "source": [
    "df.violation_description = df.violation_description.fillna(\"No Comment\")"
   ]
  },
  {
   "cell_type": "code",
   "execution_count": 58,
   "metadata": {
    "collapsed": false
   },
   "outputs": [],
   "source": [
    "df.ssa = df.ssa.fillna(\"No Comment\")"
   ]
  },
  {
   "cell_type": "code",
   "execution_count": 59,
   "metadata": {
    "collapsed": false
   },
   "outputs": [
    {
     "data": {
      "text/plain": [
       "(array([  975,   982,  1335,  1595,  5621,  7318,  7319, 11679, 12915,\n",
       "        12919, 12924, 18181, 21898, 21899, 22828, 22908, 23286, 25920,\n",
       "        27735, 27736, 27811, 27812, 28396, 28980, 28984, 28986, 29090,\n",
       "        29093, 29096, 29388, 29389, 30534, 32379, 32428, 32429, 33615,\n",
       "        36098, 37361, 37700, 38792, 43301, 43302, 45766, 45980, 46027,\n",
       "        48082, 48195, 48197]),)"
      ]
     },
     "execution_count": 59,
     "metadata": {},
     "output_type": "execute_result"
    }
   ],
   "source": [
    "np.where(df.longitude.isnull())"
   ]
  },
  {
   "cell_type": "code",
   "execution_count": null,
   "metadata": {
    "collapsed": true
   },
   "outputs": [],
   "source": []
  }
 ],
 "metadata": {
  "kernelspec": {
   "display_name": "Python 2",
   "language": "python",
   "name": "python2"
  },
  "language_info": {
   "codemirror_mode": {
    "name": "ipython",
    "version": 2
   },
   "file_extension": ".py",
   "mimetype": "text/x-python",
   "name": "python",
   "nbconvert_exporter": "python",
   "pygments_lexer": "ipython2",
   "version": "2.7.9"
  }
 },
 "nbformat": 4,
 "nbformat_minor": 0
}
